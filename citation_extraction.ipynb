{
 "cells": [
  {
   "cell_type": "code",
   "execution_count": 7,
   "metadata": {},
   "outputs": [
    {
     "data": {
      "text/html": [
       "<div>\n",
       "<style scoped>\n",
       "    .dataframe tbody tr th:only-of-type {\n",
       "        vertical-align: middle;\n",
       "    }\n",
       "\n",
       "    .dataframe tbody tr th {\n",
       "        vertical-align: top;\n",
       "    }\n",
       "\n",
       "    .dataframe thead th {\n",
       "        text-align: right;\n",
       "    }\n",
       "</style>\n",
       "<table border=\"1\" class=\"dataframe\">\n",
       "  <thead>\n",
       "    <tr style=\"text-align: right;\">\n",
       "      <th></th>\n",
       "      <th>paragraph</th>\n",
       "      <th>guide_id</th>\n",
       "      <th>paragraph_id</th>\n",
       "      <th>possible_citations</th>\n",
       "      <th>possible_eng_citations</th>\n",
       "    </tr>\n",
       "  </thead>\n",
       "  <tbody>\n",
       "    <tr>\n",
       "      <th>719</th>\n",
       "      <td>The concept of “civil rights and obligations” ...</td>\n",
       "      <td>guide_art_6_civil_eng</td>\n",
       "      <td>1</td>\n",
       "      <td>{\"001-216400\": \"CASE OF GRZ\\u0118DA v. POLAND\"...</td>\n",
       "      <td>{\"001-216400\": \"CASE OF GRZ\\u0118DA v. POLAND\"...</td>\n",
       "    </tr>\n",
       "    <tr>\n",
       "      <th>720</th>\n",
       "      <td>However, the principle that the autonomous con...</td>\n",
       "      <td>guide_art_6_civil_eng</td>\n",
       "      <td>2</td>\n",
       "      <td>{\"001-216400\": \"CASE OF GRZ\\u0118DA v. POLAND\"...</td>\n",
       "      <td>{\"001-216400\": \"CASE OF GRZ\\u0118DA v. POLAND\"...</td>\n",
       "    </tr>\n",
       "    <tr>\n",
       "      <th>721</th>\n",
       "      <td>The judgment in Grzęda v. Poland [GC], 2022, r...</td>\n",
       "      <td>guide_art_6_civil_eng</td>\n",
       "      <td>3</td>\n",
       "      <td>{\"001-216400\": \"CASE OF GRZ\\u0118DA v. POLAND\"...</td>\n",
       "      <td>{\"001-216400\": \"CASE OF GRZ\\u0118DA v. POLAND\"...</td>\n",
       "    </tr>\n",
       "    <tr>\n",
       "      <th>722</th>\n",
       "      <td>The two aspects, civil and criminal, of Articl...</td>\n",
       "      <td>guide_art_6_civil_eng</td>\n",
       "      <td>4</td>\n",
       "      <td>{\"001-177070\": \"CASE OF K\\u00c1ROLY NAGY v. HU...</td>\n",
       "      <td>{\"001-177070\": \"CASE OF K\\u00c1ROLY NAGY v. HU...</td>\n",
       "    </tr>\n",
       "    <tr>\n",
       "      <th>723</th>\n",
       "      <td>The word “dispute” must be given a substantive...</td>\n",
       "      <td>guide_art_6_civil_eng</td>\n",
       "      <td>5</td>\n",
       "      <td>{\"001-177070\": \"CASE OF K\\u00c1ROLY NAGY v. HU...</td>\n",
       "      <td>{\"001-177070\": \"CASE OF K\\u00c1ROLY NAGY v. HU...</td>\n",
       "    </tr>\n",
       "    <tr>\n",
       "      <th>...</th>\n",
       "      <td>...</td>\n",
       "      <td>...</td>\n",
       "      <td>...</td>\n",
       "      <td>...</td>\n",
       "      <td>...</td>\n",
       "    </tr>\n",
       "    <tr>\n",
       "      <th>822</th>\n",
       "      <td>While Article 6 § 1 offers a procedural safegu...</td>\n",
       "      <td>guide_art_6_civil_eng</td>\n",
       "      <td>104</td>\n",
       "      <td>{\"001-186438\": \"CASE OF KO\\u017dEMIAKINA v. LI...</td>\n",
       "      <td>{\"001-186438\": \"CASE OF KO\\u017dEMIAKINA v. LI...</td>\n",
       "    </tr>\n",
       "    <tr>\n",
       "      <th>823</th>\n",
       "      <td>The Court has emphasised the special nature of...</td>\n",
       "      <td>guide_art_6_civil_eng</td>\n",
       "      <td>105</td>\n",
       "      <td>{\"001-186438\": \"CASE OF KO\\u017dEMIAKINA v. LI...</td>\n",
       "      <td>{\"001-186438\": \"CASE OF KO\\u017dEMIAKINA v. LI...</td>\n",
       "    </tr>\n",
       "    <tr>\n",
       "      <th>824</th>\n",
       "      <td>In López Ribalda and Others v. Spain [GC], 201...</td>\n",
       "      <td>guide_art_6_civil_eng</td>\n",
       "      <td>106</td>\n",
       "      <td>{\"001-186438\": \"CASE OF KO\\u017dEMIAKINA v. LI...</td>\n",
       "      <td>{\"001-186438\": \"CASE OF KO\\u017dEMIAKINA v. LI...</td>\n",
       "    </tr>\n",
       "    <tr>\n",
       "      <th>825</th>\n",
       "      <td>The Court has dealt with cases in which the ap...</td>\n",
       "      <td>guide_art_6_civil_eng</td>\n",
       "      <td>107</td>\n",
       "      <td>{\"001-186438\": \"CASE OF KO\\u017dEMIAKINA v. LI...</td>\n",
       "      <td>{\"001-186438\": \"CASE OF KO\\u017dEMIAKINA v. LI...</td>\n",
       "    </tr>\n",
       "    <tr>\n",
       "      <th>826</th>\n",
       "      <td>Article 6 § 1 is a lex specialis in relation t...</td>\n",
       "      <td>guide_art_6_civil_eng</td>\n",
       "      <td>108</td>\n",
       "      <td>{\"001-187940\": \"CASE OF S\\u0141OMKA v. POLAND\"...</td>\n",
       "      <td>{\"001-187940\": \"CASE OF S\\u0141OMKA v. POLAND\"...</td>\n",
       "    </tr>\n",
       "  </tbody>\n",
       "</table>\n",
       "<p>108 rows × 5 columns</p>\n",
       "</div>"
      ],
      "text/plain": [
       "                                             paragraph               guide_id  \\\n",
       "719  The concept of “civil rights and obligations” ...  guide_art_6_civil_eng   \n",
       "720  However, the principle that the autonomous con...  guide_art_6_civil_eng   \n",
       "721  The judgment in Grzęda v. Poland [GC], 2022, r...  guide_art_6_civil_eng   \n",
       "722  The two aspects, civil and criminal, of Articl...  guide_art_6_civil_eng   \n",
       "723  The word “dispute” must be given a substantive...  guide_art_6_civil_eng   \n",
       "..                                                 ...                    ...   \n",
       "822  While Article 6 § 1 offers a procedural safegu...  guide_art_6_civil_eng   \n",
       "823  The Court has emphasised the special nature of...  guide_art_6_civil_eng   \n",
       "824  In López Ribalda and Others v. Spain [GC], 201...  guide_art_6_civil_eng   \n",
       "825  The Court has dealt with cases in which the ap...  guide_art_6_civil_eng   \n",
       "826  Article 6 § 1 is a lex specialis in relation t...  guide_art_6_civil_eng   \n",
       "\n",
       "     paragraph_id                                 possible_citations  \\\n",
       "719             1  {\"001-216400\": \"CASE OF GRZ\\u0118DA v. POLAND\"...   \n",
       "720             2  {\"001-216400\": \"CASE OF GRZ\\u0118DA v. POLAND\"...   \n",
       "721             3  {\"001-216400\": \"CASE OF GRZ\\u0118DA v. POLAND\"...   \n",
       "722             4  {\"001-177070\": \"CASE OF K\\u00c1ROLY NAGY v. HU...   \n",
       "723             5  {\"001-177070\": \"CASE OF K\\u00c1ROLY NAGY v. HU...   \n",
       "..            ...                                                ...   \n",
       "822           104  {\"001-186438\": \"CASE OF KO\\u017dEMIAKINA v. LI...   \n",
       "823           105  {\"001-186438\": \"CASE OF KO\\u017dEMIAKINA v. LI...   \n",
       "824           106  {\"001-186438\": \"CASE OF KO\\u017dEMIAKINA v. LI...   \n",
       "825           107  {\"001-186438\": \"CASE OF KO\\u017dEMIAKINA v. LI...   \n",
       "826           108  {\"001-187940\": \"CASE OF S\\u0141OMKA v. POLAND\"...   \n",
       "\n",
       "                                possible_eng_citations  \n",
       "719  {\"001-216400\": \"CASE OF GRZ\\u0118DA v. POLAND\"...  \n",
       "720  {\"001-216400\": \"CASE OF GRZ\\u0118DA v. POLAND\"...  \n",
       "721  {\"001-216400\": \"CASE OF GRZ\\u0118DA v. POLAND\"...  \n",
       "722  {\"001-177070\": \"CASE OF K\\u00c1ROLY NAGY v. HU...  \n",
       "723  {\"001-177070\": \"CASE OF K\\u00c1ROLY NAGY v. HU...  \n",
       "..                                                 ...  \n",
       "822  {\"001-186438\": \"CASE OF KO\\u017dEMIAKINA v. LI...  \n",
       "823  {\"001-186438\": \"CASE OF KO\\u017dEMIAKINA v. LI...  \n",
       "824  {\"001-186438\": \"CASE OF KO\\u017dEMIAKINA v. LI...  \n",
       "825  {\"001-186438\": \"CASE OF KO\\u017dEMIAKINA v. LI...  \n",
       "826  {\"001-187940\": \"CASE OF S\\u0141OMKA v. POLAND\"...  \n",
       "\n",
       "[108 rows x 5 columns]"
      ]
     },
     "execution_count": 7,
     "metadata": {},
     "output_type": "execute_result"
    }
   ],
   "source": [
    "import json\n",
    "import pandas as pd\n",
    "\n",
    "GUIDE_ID = \"guide_art_6_civil_eng\"\n",
    "\n",
    "df = pd.read_csv('data/echr_case_law_guides_with_possible_eng_citations.csv')\n",
    "df = df[df['guide_id'] == GUIDE_ID]\n",
    "df"
   ]
  },
  {
   "cell_type": "code",
   "execution_count": 8,
   "metadata": {},
   "outputs": [
    {
     "ename": "ValueError",
     "evalue": "too many values to unpack (expected 2)",
     "output_type": "error",
     "traceback": [
      "\u001b[0;31m---------------------------------------------------------------------------\u001b[0m",
      "\u001b[0;31mValueError\u001b[0m                                Traceback (most recent call last)",
      "Cell \u001b[0;32mIn[8], line 6\u001b[0m\n\u001b[1;32m      3\u001b[0m     pcs \u001b[38;5;241m=\u001b[39m json\u001b[38;5;241m.\u001b[39mloads(row[\u001b[38;5;124m\"\u001b[39m\u001b[38;5;124mpossible_eng_citations\u001b[39m\u001b[38;5;124m\"\u001b[39m])\n\u001b[1;32m      4\u001b[0m     possible_citations\u001b[38;5;241m.\u001b[39mupdate(pcs)\n\u001b[0;32m----> 6\u001b[0m possible_citations \u001b[38;5;241m=\u001b[39m \u001b[43m{\u001b[49m\u001b[43mk\u001b[49m\u001b[43m:\u001b[49m\u001b[43m \u001b[49m\u001b[43mv\u001b[49m\u001b[43m \u001b[49m\u001b[38;5;28;43;01mfor\u001b[39;49;00m\u001b[43m \u001b[49m\u001b[43mk\u001b[49m\u001b[43m,\u001b[49m\u001b[43m \u001b[49m\u001b[43mv\u001b[49m\u001b[43m \u001b[49m\u001b[38;5;129;43;01min\u001b[39;49;00m\u001b[43m \u001b[49m\u001b[43mpossible_citations\u001b[49m\u001b[43m \u001b[49m\u001b[38;5;28;43;01mif\u001b[39;49;00m\u001b[43m \u001b[49m\u001b[38;5;124;43m\"\u001b[39;49m\u001b[38;5;124;43mv.\u001b[39;49m\u001b[38;5;124;43m\"\u001b[39;49m\u001b[43m \u001b[49m\u001b[38;5;129;43;01min\u001b[39;49;00m\u001b[43m \u001b[49m\u001b[43mv\u001b[49m\u001b[43m}\u001b[49m\n\u001b[1;32m      8\u001b[0m \u001b[38;5;28mprint\u001b[39m(json\u001b[38;5;241m.\u001b[39mdumps(possible_citations, indent\u001b[38;5;241m=\u001b[39m\u001b[38;5;241m4\u001b[39m))\n",
      "Cell \u001b[0;32mIn[8], line 6\u001b[0m, in \u001b[0;36m<dictcomp>\u001b[0;34m(.0)\u001b[0m\n\u001b[1;32m      3\u001b[0m     pcs \u001b[38;5;241m=\u001b[39m json\u001b[38;5;241m.\u001b[39mloads(row[\u001b[38;5;124m\"\u001b[39m\u001b[38;5;124mpossible_eng_citations\u001b[39m\u001b[38;5;124m\"\u001b[39m])\n\u001b[1;32m      4\u001b[0m     possible_citations\u001b[38;5;241m.\u001b[39mupdate(pcs)\n\u001b[0;32m----> 6\u001b[0m possible_citations \u001b[38;5;241m=\u001b[39m {k: v \u001b[38;5;28;01mfor\u001b[39;00m k, v \u001b[38;5;129;01min\u001b[39;00m possible_citations \u001b[38;5;28;01mif\u001b[39;00m \u001b[38;5;124m\"\u001b[39m\u001b[38;5;124mv.\u001b[39m\u001b[38;5;124m\"\u001b[39m \u001b[38;5;129;01min\u001b[39;00m v}\n\u001b[1;32m      8\u001b[0m \u001b[38;5;28mprint\u001b[39m(json\u001b[38;5;241m.\u001b[39mdumps(possible_citations, indent\u001b[38;5;241m=\u001b[39m\u001b[38;5;241m4\u001b[39m))\n",
      "\u001b[0;31mValueError\u001b[0m: too many values to unpack (expected 2)"
     ]
    }
   ],
   "source": [
    "possible_citations = {}\n",
    "for i, row in df.iterrows():\n",
    "    pcs = json.loads(row[\"possible_eng_citations\"])\n",
    "    possible_citations.update(pcs)\n",
    "\n",
    "possible_citations = {k: v for k, v in possible_citations.items() if \"v.\" in v}\n",
    "\n",
    "print(json.dumps(possible_citations, indent=4))"
   ]
  },
  {
   "cell_type": "code",
   "execution_count": 6,
   "metadata": {},
   "outputs": [],
   "source": [
    "from citation_extraction.src.citation_extractor import CitationNotIdentifiableException, Sentence, extract_citations\n",
    "last_cited_case = \"\"\n",
    "last_cited_case_id = \"\"\n",
    "\n",
    "manual_mappings = {}\n",
    "# open json file with manual mappings\n",
    "with open(\"data/manual_mappings.json\", \"r\") as f:\n",
    "    manual_mappings = json.load(f)\n",
    "\n",
    "sentences = []\n",
    "citations = []\n",
    "guide_ids = []\n",
    "paragraphs = []\n",
    "\n",
    "\n",
    "for i, row in df.iterrows():\n",
    "    sentences_with_citations: list[Sentence] = []\n",
    "    possible_citations = json.loads(row['possible_eng_citations'])\n",
    "    sentences_with_citations, last_cited_case, last_cited_case_id = extract_citations(row['paragraph'], possible_citations, last_cited_case, last_cited_case_id, manual_mappings)\n",
    "    sentences.extend([s.sentence for s in sentences_with_citations])\n",
    "    citations.extend([json.dumps([c.model_dump() for c in s.citations], indent=4) for s in sentences_with_citations])\n",
    "    guide_ids.extend([row['guide_id'] for _ in sentences_with_citations])\n",
    "    paragraphs.extend([row['paragraph_id'] for _ in sentences_with_citations])\n"
   ]
  },
  {
   "cell_type": "code",
   "execution_count": 3,
   "metadata": {},
   "outputs": [
    {
     "name": "stdout",
     "output_type": "stream",
     "text": [
      "120\n",
      "120\n",
      "120\n",
      "120\n"
     ]
    }
   ],
   "source": [
    "print(len(sentences))\n",
    "print(len(citations))\n",
    "print(len(guide_ids))\n",
    "print(len(paragraphs))\n",
    "\n",
    "sentences_df = pd.DataFrame({'sentence': sentences, 'citations': citations, 'guide_id': guide_ids, 'paragraph_id': paragraphs})\n",
    "sentences_df.to_csv('data/extracted_citations.csv', index=False)"
   ]
  },
  {
   "cell_type": "code",
   "execution_count": 4,
   "metadata": {},
   "outputs": [],
   "source": [
    "from citation_extraction.src.citation_extractor import Citation\n",
    "\n",
    "def clean_case_id(case_id: str):\n",
    "    if \"(F)\" in case_id:\n",
    "        raise ValueError(\"Case id contains (F)\")\n",
    "    if \"(\" in case_id:\n",
    "        case_id = case_id.split(\"(\")[0]\n",
    "    return case_id\n",
    "\n",
    "def merge_citations(list_of_citations: list[Citation]):\n",
    "    merged = {clean_case_id(c.case_id): Citation(case_name=c.case_name, best_match=c.best_match, case_id=clean_case_id(c.case_id), paragraph_numbers=[]) for c in list_of_citations}\n",
    "    for c in list_of_citations:\n",
    "        merged[clean_case_id(c.case_id)].paragraph_numbers.extend(c.paragraph_numbers)\n",
    "        merged[clean_case_id(c.case_id)].paragraph_numbers = list(set(merged[clean_case_id(c.case_id)].paragraph_numbers))\n",
    "        \n",
    "    return list(merged.values())"
   ]
  },
  {
   "cell_type": "code",
   "execution_count": 5,
   "metadata": {},
   "outputs": [],
   "source": [
    "import spacy\n",
    "\n",
    "\n",
    "nlp = spacy.load(\"en_core_web_trf\")\n",
    "\n",
    "\n",
    "def get_sentences_spacy(text: str):\n",
    "    doc = nlp(text)\n",
    "    return [sentence.text for sentence in doc.sents]"
   ]
  },
  {
   "cell_type": "code",
   "execution_count": 6,
   "metadata": {},
   "outputs": [
    {
     "name": "stdout",
     "output_type": "stream",
     "text": [
      "37\n"
     ]
    }
   ],
   "source": [
    "echr_qa_dataset_df = pd.read_csv('data/echr_qa_dataset.csv')\n",
    "echr_qa_dataset_df = echr_qa_dataset_df[echr_qa_dataset_df['guide'] == GUIDE_ID]\n",
    "\n",
    "print(len(echr_qa_dataset_df))"
   ]
  },
  {
   "cell_type": "code",
   "execution_count": 7,
   "metadata": {},
   "outputs": [
    {
     "name": "stdout",
     "output_type": "stream",
     "text": [
      "Case id contains (F)\n",
      "Case id contains (F)\n",
      "Case id contains (F)\n",
      "Case id contains (F)\n",
      "Sentence not found: In the Court’s view the work required did not go beyond what is “ordinary” in this context since it was calculated to assist him in reintegrating himself into society and had as its legal basis provisions which find an equivalent in certain other member States of the Council of Europe (ibid.; Stummer v. Austria [GC], 2011, § 121; De Wilde, Ooms and Versyp v. Belgium, 1971, § 90). In a case where the applicant complained about the obligation on prisoners to perform work in prison after they had reached retirement age, the Court, having regard to the aim of the work imposed, its nature, its extent and the manner in which it was to be performed as well as noting the absence of consensus among the Council of Europe member States on the issue\n",
      "Case id contains (F)\n",
      "Case id contains (F)\n",
      "Case id contains (F)\n",
      "Case id contains (F)\n",
      "Sentence not found: In other words, the Court is not concerned with allegations of errors or isolated omissions but only significant shortcomings in the proceedings and the relevant decision‑making process, namely those that are capable of undermining the investigation’s capability of establishing the circumstances of the case or the person responsible (S.M. v. Croatia [GC], 2020, §§ 312-320; Rantsev v. Cyprus and Russia, 2010, § 288)\n"
     ]
    }
   ],
   "source": [
    "all_citations = []\n",
    "all_questions = []\n",
    "all_answers = []\n",
    "all_guides = []\n",
    "all_paragraphs = []\n",
    "\n",
    "for i, row in echr_qa_dataset_df.iterrows():\n",
    "    sentences = get_sentences_spacy(row['answer'])\n",
    "    citations = []\n",
    "    try:\n",
    "        for sentence in sentences:\n",
    "            find_sentence_df = sentences_df[sentences_df['sentence'] == sentence]\n",
    "\n",
    "            if \"v.\" in sentence and len(find_sentence_df) == 0:\n",
    "                raise ValueError(f\"Sentence not found: {sentence}\")\n",
    "\n",
    "            if len(find_sentence_df) > 0:\n",
    "                sentence_citations = [json.loads(c) for c in find_sentence_df['citations']][0]\n",
    "                sentence_citations = [Citation(**c) for c in sentence_citations]\n",
    "                for sc in sentence_citations:\n",
    "                    citations.append(sc)\n",
    "        \n",
    "        merged_citations = merge_citations(citations)\n",
    "        has_citation_without_paragraph = False\n",
    "        for c in merged_citations:\n",
    "            if len(c.paragraph_numbers) == 0:\n",
    "                has_citation_without_paragraph = True\n",
    "                break\n",
    "        if not has_citation_without_paragraph or not merged_citations:\n",
    "            all_citations.append(merged_citations)\n",
    "            all_questions.append(row['question'])\n",
    "            all_answers.append(row['answer'])\n",
    "            all_guides.append(row['guide'])\n",
    "            all_paragraphs.append(row['paragraphs'])\n",
    "    except Exception as e:\n",
    "        print(e)\n",
    "\n"
   ]
  },
  {
   "cell_type": "code",
   "execution_count": 10,
   "metadata": {},
   "outputs": [
    {
     "name": "stdout",
     "output_type": "stream",
     "text": [
      "14\n"
     ]
    }
   ],
   "source": [
    "print(len(all_citations))"
   ]
  },
  {
   "cell_type": "code",
   "execution_count": 9,
   "metadata": {},
   "outputs": [],
   "source": [
    "all_citations = [json.dumps([c.model_dump() for c in cs], indent=4) for cs in all_citations]\n",
    "\n",
    "qa_pairs_with_citations_df = pd.DataFrame({'question': all_questions, 'answer': all_answers, 'guide': all_guides, 'paragraphs': all_paragraphs, 'citations': all_citations})\n",
    "qa_pairs_with_citations_df.to_csv('data/echr_qa_dataset_with_citations.csv', index=False)"
   ]
  }
 ],
 "metadata": {
  "kernelspec": {
   "display_name": "env",
   "language": "python",
   "name": "python3"
  },
  "language_info": {
   "codemirror_mode": {
    "name": "ipython",
    "version": 3
   },
   "file_extension": ".py",
   "mimetype": "text/x-python",
   "name": "python",
   "nbconvert_exporter": "python",
   "pygments_lexer": "ipython3",
   "version": "3.11.8"
  }
 },
 "nbformat": 4,
 "nbformat_minor": 2
}
